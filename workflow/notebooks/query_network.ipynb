{
 "cells": [
  {
   "cell_type": "code",
   "execution_count": 32,
   "metadata": {},
   "outputs": [],
   "source": [
    "import pickle\n",
    "from collections import namedtuple\n",
    "\n",
    "import pandas as pd\n",
    "import networkx as nx"
   ]
  },
  {
   "cell_type": "code",
   "execution_count": 5,
   "metadata": {},
   "outputs": [],
   "source": [
    "def read_mmseqs_search_output(fn: str, usecols: str = 'query,target,pident,qcov,tcov') -> pd.DataFrame:\n",
    "    header = 'query,target,pident,fident,alnlen,mismatch,gapopen,qstart,qend,tstart,tend,evalue,bits,qcov,tcov'.split(',')\n",
    "    return (\n",
    "        pd.read_csv(\n",
    "            fn,\n",
    "            sep='\\t',\n",
    "            header=None,\n",
    "            names=header,\n",
    "            usecols=usecols.split(','),\n",
    "        )\n",
    "    )\n",
    "\n",
    "\n"
   ]
  },
  {
   "cell_type": "code",
   "execution_count": 29,
   "metadata": {},
   "outputs": [
    {
     "data": {
      "text/html": [
       "<div>\n",
       "<style scoped>\n",
       "    .dataframe tbody tr th:only-of-type {\n",
       "        vertical-align: middle;\n",
       "    }\n",
       "\n",
       "    .dataframe tbody tr th {\n",
       "        vertical-align: top;\n",
       "    }\n",
       "\n",
       "    .dataframe thead th {\n",
       "        text-align: right;\n",
       "    }\n",
       "</style>\n",
       "<table border=\"1\" class=\"dataframe\">\n",
       "  <thead>\n",
       "    <tr style=\"text-align: right;\">\n",
       "      <th></th>\n",
       "      <th></th>\n",
       "      <th>target</th>\n",
       "    </tr>\n",
       "    <tr>\n",
       "      <th>system</th>\n",
       "      <th>component</th>\n",
       "      <th></th>\n",
       "    </tr>\n",
       "  </thead>\n",
       "  <tbody>\n",
       "    <tr>\n",
       "      <th rowspan=\"2\" valign=\"top\">DS4</th>\n",
       "      <th>1</th>\n",
       "      <td>{WP_251000164.1, WP_054578448.1, WP_102043347....</td>\n",
       "    </tr>\n",
       "    <tr>\n",
       "      <th>2</th>\n",
       "      <td>{WP_228056576.1, WP_027915645.1, WP_105397593....</td>\n",
       "    </tr>\n",
       "  </tbody>\n",
       "</table>\n",
       "</div>"
      ],
      "text/plain": [
       "                                                             target\n",
       "system component                                                   \n",
       "DS4    1          {WP_251000164.1, WP_054578448.1, WP_102043347....\n",
       "       2          {WP_228056576.1, WP_027915645.1, WP_105397593...."
      ]
     },
     "execution_count": 29,
     "metadata": {},
     "output_type": "execute_result"
    }
   ],
   "source": [
    "ge_pident = 0.3\n",
    "ge_qcov = 0.8\n",
    "ge_tcov = 0.8\n",
    "\n",
    "\n",
    "(\n",
    "    read_mmseqs_search_output('/home/hugo/projects/icetea/.test/network/query_vs_target.tsv')\n",
    "    .loc[\n",
    "        lambda df_: df_.pident.ge(ge_pident) & df_.qcov.ge(ge_qcov) & df_.tcov.ge(ge_tcov),\n",
    "        ['query', 'target']\n",
    "    ]\n",
    "    .pipe(\n",
    "        lambda df_: pd.DataFrame(\n",
    "            data=df_.target.values,\n",
    "            index=pd.MultiIndex.from_tuples(df_['query'].apply(lambda x: x.split('-')), names=['system', 'component']),\n",
    "            columns=['target']\n",
    "        )\n",
    "    )\n",
    "    .groupby(['system', 'component'])\n",
    "    .agg(set)\n",
    ")"
   ]
  },
  {
   "cell_type": "code",
   "execution_count": 1,
   "metadata": {},
   "outputs": [
    {
     "ename": "NameError",
     "evalue": "name 'nx' is not defined",
     "output_type": "error",
     "traceback": [
      "\u001b[0;31m---------------------------------------------------------------------------\u001b[0m",
      "\u001b[0;31mNameError\u001b[0m                                 Traceback (most recent call last)",
      "Cell \u001b[0;32mIn[1], line 2\u001b[0m\n\u001b[1;32m      1\u001b[0m \u001b[39m# read network from pickle\u001b[39;00m\n\u001b[0;32m----> 2\u001b[0m \u001b[39mdef\u001b[39;00m \u001b[39mread_network_from_pickle\u001b[39m(fn: \u001b[39mstr\u001b[39m) \u001b[39m-\u001b[39m\u001b[39m>\u001b[39m nx\u001b[39m.\u001b[39mGraph:\n\u001b[1;32m      3\u001b[0m     \u001b[39mwith\u001b[39;00m \u001b[39mopen\u001b[39m(fn, \u001b[39m'\u001b[39m\u001b[39mrb\u001b[39m\u001b[39m'\u001b[39m) \u001b[39mas\u001b[39;00m f:\n\u001b[1;32m      4\u001b[0m         \u001b[39mreturn\u001b[39;00m pickle\u001b[39m.\u001b[39mload(f)\n",
      "\u001b[0;31mNameError\u001b[0m: name 'nx' is not defined"
     ]
    }
   ],
   "source": [
    "# read network from pickle\n",
    "def read_network_from_pickle(fn: str) -> nx.Graph:\n",
    "    with open(fn, 'rb') as f:\n",
    "        return pickle.load(f)\n",
    "    \n",
    "EdgeInfo = namedtuple('EdgeInfo', ['on_contig_position', 'assembly', 'contig'])\n",
    "\n",
    "G = read_network_from_pickle('/home/hugo/projects/icetea/.test/network/all_cds.graph.with_oncontig_pos.pickle')"
   ]
  },
  {
   "cell_type": "code",
   "execution_count": null,
   "metadata": {},
   "outputs": [],
   "source": []
  }
 ],
 "metadata": {
  "kernelspec": {
   "display_name": "polars_env",
   "language": "python",
   "name": "python3"
  },
  "language_info": {
   "codemirror_mode": {
    "name": "ipython",
    "version": 3
   },
   "file_extension": ".py",
   "mimetype": "text/x-python",
   "name": "python",
   "nbconvert_exporter": "python",
   "pygments_lexer": "ipython3",
   "version": "3.11.0"
  },
  "orig_nbformat": 4,
  "vscode": {
   "interpreter": {
    "hash": "bb6ffa45c82960c8bd96630701e1863d66e80dc612d3f0c1bf1c246e54b3d4ee"
   }
  }
 },
 "nbformat": 4,
 "nbformat_minor": 2
}
